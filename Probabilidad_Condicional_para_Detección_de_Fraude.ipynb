{
  "nbformat": 4,
  "nbformat_minor": 0,
  "metadata": {
    "colab": {
      "private_outputs": true,
      "provenance": [],
      "authorship_tag": "ABX9TyM1RX2AoA4j7oLRQypen8Pv",
      "include_colab_link": true
    },
    "kernelspec": {
      "name": "python3",
      "display_name": "Python 3"
    },
    "language_info": {
      "name": "python"
    }
  },
  "cells": [
    {
      "cell_type": "markdown",
      "metadata": {
        "id": "view-in-github",
        "colab_type": "text"
      },
      "source": [
        "<a href=\"https://colab.research.google.com/github/WellcomePeujio/Probabilidad-Condicional-para-Deteccion-de-Fraude/blob/main/Probabilidad_Condicional_para_Detecci%C3%B3n_de_Fraude.ipynb\" target=\"_parent\"><img src=\"https://colab.research.google.com/assets/colab-badge.svg\" alt=\"Open In Colab\"/></a>"
      ]
    },
    {
      "cell_type": "markdown",
      "source": [
        "# Probabilidad Condicional para Detección de Fraude\n",
        "\n",
        "**Problema**: En un dataset de transacciones, se sabe que el **1%** de las transacciones son fraudulentas.\n",
        " Además:\n",
        "\n",
        "- El **80%** de las transacciones fraudulentas involucran compras superiores a $1,000.\n",
        "\n",
        "- Solo el **5%** de las transacciones no fraudulentas cumplen esta condición.\n",
        "\n",
        "**Preguntas**:\n",
        "\n",
        "1. Utiliza la fórmula de **probabilidad condicional** para calcular la probabilidad de que una transacción superior a $1,000 sea fraudulenta.\n",
        "\n",
        "2. ¿Cómo podría este cálculo ayudar en la detección automática de fraudes?\n"
      ],
      "metadata": {
        "id": "4sN-crqhmhCu"
      }
    },
    {
      "cell_type": "markdown",
      "source": [
        "# Resolución del Problema de Probabilidad Condicional para Detección de Fraude\n",
        "\n",
        "## Paso 1: Definir los Eventos\n",
        "\n",
        "Definimos los eventos relevantes:\n",
        "- $F$: la transacción es fraudulenta.\n",
        "\n",
        "- $N$: la transacción no es fraudulenta.\n",
        "\n",
        "- $A$: la transacción es superior a $1,000.\n",
        "\n",
        "## Paso 2: Datos del Problema\n",
        "\n",
        "- $P(F) = 0.01$: Probabilidad de que una transacción sea fraudulenta.\n",
        "\n",
        "- $P(N) = 0.99$: Probabilidad de que una transacción no sea fraudulenta.\n",
        "\n",
        "- $P(A \\mid F) = 0.80$: Probabilidad de que una transacción fraudulenta sea superior a $1,000.\n",
        "\n",
        "- $P(A \\mid N) = 0.05$: Probabilidad de que una transacción no fraudulenta sea superior a $1,000.\n",
        "\n",
        "## Paso 3: Aplicar la Fórmula de Probabilidad Condicional\n",
        "\n",
        "Queremos encontrar $P(F \\mid A)$, es decir, la probabilidad de que una transacción superior a $1,000 sea fraudulenta. Usamos el **teorema de Bayes**:\n",
        "\n",
        "$$\n",
        "P(F \\mid A) = \\frac{P(A \\mid F) \\cdot P(F)}{P(A)}\n",
        "$$\n",
        "\n",
        "Donde $P(A)$, la probabilidad de que una transacción sea superior a $1,000$, se calcula como:\n",
        "\n",
        "$$\n",
        "P(A) = P(A \\mid F) \\cdot P(F) + P(A \\mid N) \\cdot P(N)\n",
        "$$\n",
        "\n",
        "Sustituyendo los valores:\n",
        "\n",
        "$$\n",
        "P(A) = (0.80 \\cdot 0.01) + (0.05 \\cdot 0.99)\n",
        "$$\n",
        "\n",
        "$$\n",
        "P(A) = 0.008 + 0.0495 = 0.0575\n",
        "$$\n",
        "\n",
        "## Paso 4: Calcular $P(F \\mid A)$\n",
        "\n",
        "Sustituimos $P(A)$ en la fórmula del teorema de Bayes:\n",
        "\n",
        "$$\n",
        "P(F \\mid A) = \\frac{0.80 \\cdot 0.01}{0.0575}\n",
        "$$\n",
        "\n",
        "$$\n",
        "P(F \\mid A) = \\frac{0.008}{0.0575} \\approx 0.1391\n",
        "$$\n",
        "\n",
        "La probabilidad de que una transacción superior a $1,000 sea fraudulenta es **13.91%**.\n",
        "\n",
        "## Interpretación\n",
        "\n",
        "Este cálculo muestra que, aunque solo el 1% de las transacciones son fraudulentas, si una transacción es superior a $1,000, la probabilidad de que sea fraudulenta aumenta significativamente al 13.91%. Esto puede ser útil para sistemas de detección automática de fraudes, que pueden priorizar estas transacciones para una revisión más detallada.\n"
      ],
      "metadata": {
        "id": "vEsKclA3mrPX"
      }
    },
    {
      "cell_type": "code",
      "source": [
        "import numpy as np\n",
        "import matplotlib.pyplot as plt\n",
        "\n",
        "# Datos del problema\n",
        "p_f = 0.01  # Probabilidad de transacción fraudulenta\n",
        "p_n = 0.99  # Probabilidad de transacción no fraudulenta\n",
        "p_a_given_f = 0.80  # Probabilidad de que una transacción fraudulenta sea > $1,000\n",
        "p_a_given_n = 0.05  # Probabilidad de que una transacción no fraudulenta sea > $1,000\n",
        "\n",
        "# Cálculo de P(A): Probabilidad de que una transacción sea superior a $1,000\n",
        "p_a = (p_a_given_f * p_f) + (p_a_given_n * p_n)\n",
        "\n",
        "# Cálculo de P(F | A): Probabilidad condicional usando el teorema de Bayes\n",
        "p_f_given_a = (p_a_given_f * p_f) / p_a\n",
        "\n",
        "# Generar datos para la gráfica\n",
        "fraude_probabilidades = np.linspace(0, 1, 100)\n",
        "probabilidad_condicional = (p_a_given_f * fraude_probabilidades) / ((p_a_given_f * fraude_probabilidades) + (p_a_given_n * (1 - fraude_probabilidades)))\n",
        "\n",
        "# Crear la gráfica\n",
        "plt.figure(figsize=(12, 6))\n",
        "plt.plot(fraude_probabilidades, probabilidad_condicional, color='blue', linewidth=2, label='P(F | A)')\n",
        "plt.axvline(x=p_f, color='red', linestyle='--', label=f'P(F) = {p_f:.2f}')\n",
        "plt.axhline(y=p_f_given_a, color='green', linestyle='--', label=f'P(F | A) = {p_f_given_a:.4f}')\n",
        "plt.xlabel('Probabilidad de Fraude P(F)', fontsize=14)\n",
        "plt.ylabel('Probabilidad Condicional P(F | A)', fontsize=14)\n",
        "plt.title('Evolución de la Probabilidad Condicional de Fraude', fontsize=16)\n",
        "plt.legend(fontsize=12)\n",
        "plt.grid(True)\n",
        "plt.show()\n",
        "\n",
        "# Mostrar los resultados numéricos\n",
        "p_a, p_f_given_a\n"
      ],
      "metadata": {
        "id": "C0ybAZHmm1CK"
      },
      "execution_count": null,
      "outputs": []
    }
  ]
}